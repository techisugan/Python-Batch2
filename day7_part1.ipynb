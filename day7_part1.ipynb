{
 "cells": [
  {
   "cell_type": "markdown",
   "metadata": {},
   "source": [
    "### Matrix min element"
   ]
  },
  {
   "cell_type": "code",
   "execution_count": null,
   "metadata": {},
   "outputs": [],
   "source": [
    "Given m*n matrix where m defines number of rows and n defines number\n",
    "of columns. Your job is to check whether a number is consecutive for \n",
    "3 times either in row, column, or diagonal. If there are more than\n",
    "one such numbers then print the minimum one.\n",
    "\n",
    "Note : n = m+1\n",
    "    \n",
    "Input : \n",
    "\n",
    "First Input : m, displaying number of rows\n",
    "\n",
    "Second Input : m*n matrix\n",
    "\n",
    "Output : \n",
    "\n",
    "Integer\n",
    "\n",
    "Sample Testcases :\n",
    "\n",
    "I/P 1:m=6 n=m+1   repeated=>2,1,3,5 0/p:1\n",
    "\n",
    "2 3 4 5 6 2 4 \n",
    "\n",
    "2 3 4 7 6 7 6 \n",
    "\n",
    "2 3 5 5 5 5 2 \n",
    "\n",
    "2 3 1 1 2 1 3 \n",
    "\n",
    "1 1 1 1 9 0 3 \n",
    "\n",
    "2 3 1 1 5 1 2 \n",
    "\n",
    "O/P 1 : 1"
   ]
  },
  {
   "cell_type": "code",
   "execution_count": 2,
   "metadata": {},
   "outputs": [
    {
     "name": "stdout",
     "output_type": "stream",
     "text": [
      "6\n",
      "2 3 4 5 6 2 4\n",
      "2 3 4 7 6 7 6\n",
      "2 3 5 5 5 5 2\n",
      "2 3 1 1 2 1 3\n",
      "1 1 1 1 9 0 3\n",
      "2 3 1 1 5 1 2\n",
      "[[2, 3, 4, 5, 6, 2, 4], [2, 3, 4, 7, 6, 7, 6], [2, 3, 5, 5, 5, 5, 2], [2, 3, 1, 1, 2, 1, 3], [1, 1, 1, 1, 9, 0, 3], [2, 3, 1, 1, 5, 1, 2]]\n",
      "[5, 5, 1, 1, 2, 3, 2, 3, 1, 1]\n",
      "1\n"
     ]
    }
   ],
   "source": [
    "r=int(input())#6\n",
    "mat=[]\n",
    "res=[]\n",
    "for i in range(r):\n",
    "    mat.append(list(map(int,input().split())))\n",
    "print(mat)\n",
    "\n",
    "c=r+1#7\n",
    "#row\n",
    "for i in range(r):#6=>0-5         ==>0      \n",
    "    for j in range(c-2):#7=>0-5: ==>0,1,2 ==>1,2,3=>2,3,4=>3,4,5=>4,5,6\n",
    "        if mat[i][j]==mat[i][j+1]==mat[i][j+2]:\n",
    "            res.append(mat[i][j])\n",
    "#col\n",
    "for i in range(r-2):#6=>6-4 =>0-3\n",
    "    for j in range(c):#7\n",
    "        if mat[i][j]==mat[i+1][j]==mat[i+2][j]:\n",
    "            res.append(mat[i][j])\n",
    "            \n",
    "#Dignol\n",
    "for i in range(r-2):\n",
    "    for j in range(c-2):\n",
    "        if mat[i][j]==mat[i+1][j+1]==mat[i+2][j+2]:\n",
    "            res.append(mat[i][j])\n",
    "\n",
    "print(res)\n",
    "print(min(res))\n"
   ]
  },
  {
   "cell_type": "code",
   "execution_count": null,
   "metadata": {},
   "outputs": [],
   "source": [
    "\n",
    "2 3 4 5 6 2 4 \n",
    "\n",
    "2 3 4 7 6 7 6 \n",
    "\n",
    "2 3 5 5 5 5 2 \n",
    "\n",
    "2 3 1 1 2 1 3 \n",
    "\n",
    "1 1 1 1 9 0 3 \n",
    "\n",
    "2 3 1 1 5 1 2 "
   ]
  },
  {
   "cell_type": "code",
   "execution_count": null,
   "metadata": {},
   "outputs": [],
   "source": [
    "* * * * *\n",
    "* *   * *\n",
    "*   *   *\n",
    "* *   * *\n",
    "* * * * *"
   ]
  },
  {
   "cell_type": "code",
   "execution_count": 8,
   "metadata": {},
   "outputs": [
    {
     "name": "stdout",
     "output_type": "stream",
     "text": [
      "* * * * *  \n",
      "* *     *  \n",
      "*   *   *  \n",
      "*     * *  \n",
      "* * * * *  \n"
     ]
    }
   ],
   "source": [
    "n=5\n",
    "for i in range(1,n+1):\n",
    "    for j in range(1,n+1):\n",
    "        if i==1 or j==1 or i==n or j==n or i==j:\n",
    "            print(\"*\",end=\" \")\n",
    "        else:\n",
    "            print(\" \",end=\" \")\n",
    "    print(\" \")"
   ]
  },
  {
   "cell_type": "code",
   "execution_count": null,
   "metadata": {},
   "outputs": [],
   "source": [
    "### \n",
    "OOP==>Java,C#==>class & object\n",
    "POP==>C     ==>Only function\n",
    "OOP,POP==>C++,Python"
   ]
  },
  {
   "cell_type": "code",
   "execution_count": null,
   "metadata": {},
   "outputs": [],
   "source": [
    "OOP=>Object object Programming\n",
    "#Base\n",
    " 1.class\n",
    " 2.object\n",
    "\n",
    "#4 pillars oop\n",
    " 1.Abstraction\n",
    " 2.Encapsulation\n",
    " 3.Polymorphism\n",
    " 4.Inheritance\n"
   ]
  },
  {
   "cell_type": "code",
   "execution_count": null,
   "metadata": {},
   "outputs": [],
   "source": [
    "class=>is a blueprint/a entity with common behaviour and attribute.\n",
    "\n",
    "ex:car,laptop,pen\n",
    "    "
   ]
  },
  {
   "cell_type": "code",
   "execution_count": null,
   "metadata": {},
   "outputs": [],
   "source": [
    "object=>instance of/part of a class.\n",
    "\n",
    "   class laptop\n",
    "ex:Hp,Dell,Lenovo,Asus,MAC"
   ]
  },
  {
   "cell_type": "code",
   "execution_count": null,
   "metadata": {},
   "outputs": [],
   "source": [
    "Abstraction=>Data hiding /hides internal details &shows the functionality.\n",
    "\n",
    "ex:abstract class"
   ]
  },
  {
   "cell_type": "code",
   "execution_count": null,
   "metadata": {},
   "outputs": [],
   "source": [
    "Encapsulation=>wrapping of data /binding of data\n",
    "\n",
    "ex:class\n",
    "    "
   ]
  },
  {
   "cell_type": "code",
   "execution_count": null,
   "metadata": {},
   "outputs": [],
   "source": [
    "Polymorphism=> poly-many morphism-form\n",
    "\n",
    "ex:mobile=>time,FM,photo"
   ]
  },
  {
   "cell_type": "code",
   "execution_count": null,
   "metadata": {},
   "outputs": [],
   "source": [
    "Inheritance=> one class inherit certain attribute and method from another \n",
    "            class is called Inheritance.\n",
    "    "
   ]
  },
  {
   "cell_type": "code",
   "execution_count": null,
   "metadata": {},
   "outputs": [],
   "source": [
    "Syntax:\n",
    "    \n",
    "class class_name:\n",
    "    attribute #variable\n",
    "    method    #function\n",
    "    \n",
    "object_name=class_name() #object creation \n",
    "    \n"
   ]
  },
  {
   "cell_type": "code",
   "execution_count": null,
   "metadata": {},
   "outputs": [],
   "source": [
    "#example:    \n",
    "class laptop:\n",
    "    pass\n",
    "\n",
    "hp=laptop() #memory is reserved\n",
    "dell=laptop()"
   ]
  },
  {
   "cell_type": "code",
   "execution_count": null,
   "metadata": {},
   "outputs": [],
   "source": [
    "#calling/invoking a method -2 type\n",
    "1.using class_name\n",
    "2.using object"
   ]
  },
  {
   "cell_type": "code",
   "execution_count": 5,
   "metadata": {},
   "outputs": [
    {
     "name": "stdout",
     "output_type": "stream",
     "text": [
      "All is well\n"
     ]
    }
   ],
   "source": [
    "class laptop:#using class_name\n",
    "    def get():\n",
    "        print(\"All is well\")\n",
    "\n",
    "laptop.get()"
   ]
  },
  {
   "cell_type": "code",
   "execution_count": 12,
   "metadata": {},
   "outputs": [
    {
     "name": "stdout",
     "output_type": "stream",
     "text": [
      "All is well\n",
      "All is well\n"
     ]
    }
   ],
   "source": [
    "class laptop:#using object\n",
    "    def get(self):#self-store an references to current running object \n",
    "        print(\"All is well\")\n",
    "        \n",
    "obj1=laptop()#1\n",
    "obj1.get()   #==>get(obj)   #2\n",
    "obj2=laptop()#1\n",
    "obj2.get()"
   ]
  },
  {
   "cell_type": "markdown",
   "metadata": {},
   "source": [
    "### attributes-variable"
   ]
  },
  {
   "cell_type": "code",
   "execution_count": null,
   "metadata": {},
   "outputs": [],
   "source": [
    "class attribute\n",
    "Local attribute\n",
    "Instance attribute\n",
    "Global attribute"
   ]
  },
  {
   "cell_type": "code",
   "execution_count": 16,
   "metadata": {},
   "outputs": [
    {
     "name": "stdout",
     "output_type": "stream",
     "text": [
      "Am get func()\n",
      "11\n",
      "Am get func()\n",
      "12\n"
     ]
    }
   ],
   "source": [
    "class Sample:\n",
    "    var=10 #class attribute\n",
    "    def get(self):\n",
    "        print(\"Am get func()\")\n",
    "    def display(self):\n",
    "        Sample.var+=1\n",
    "        print(Sample.var)\n",
    "        \n",
    "obj1=Sample()\n",
    "obj1.get()\n",
    "obj1.display()\n",
    "obj2=Sample()\n",
    "obj2.get()\n",
    "obj2.display()\n",
    "#print(Sample.var)\n",
    "    "
   ]
  },
  {
   "cell_type": "code",
   "execution_count": 24,
   "metadata": {},
   "outputs": [
    {
     "name": "stdout",
     "output_type": "stream",
     "text": [
      "Enter Local var I/p:25\n",
      "var: 25\n"
     ]
    },
    {
     "ename": "NameError",
     "evalue": "name 'var' is not defined",
     "output_type": "error",
     "traceback": [
      "\u001b[1;31m---------------------------------------------------------------------------\u001b[0m",
      "\u001b[1;31mNameError\u001b[0m                                 Traceback (most recent call last)",
      "\u001b[1;32m<ipython-input-24-773e914fcf0d>\u001b[0m in \u001b[0;36m<module>\u001b[1;34m\u001b[0m\n\u001b[0;32m     13\u001b[0m \u001b[0mobj1\u001b[0m\u001b[1;33m=\u001b[0m\u001b[0mSample\u001b[0m\u001b[1;33m(\u001b[0m\u001b[1;33m)\u001b[0m\u001b[1;33m\u001b[0m\u001b[1;33m\u001b[0m\u001b[0m\n\u001b[0;32m     14\u001b[0m \u001b[0mobj1\u001b[0m\u001b[1;33m.\u001b[0m\u001b[0mget\u001b[0m\u001b[1;33m(\u001b[0m\u001b[1;33m)\u001b[0m\u001b[1;33m\u001b[0m\u001b[1;33m\u001b[0m\u001b[0m\n\u001b[1;32m---> 15\u001b[1;33m \u001b[0mobj1\u001b[0m\u001b[1;33m.\u001b[0m\u001b[0mdisplay\u001b[0m\u001b[1;33m(\u001b[0m\u001b[1;33m)\u001b[0m\u001b[1;33m\u001b[0m\u001b[1;33m\u001b[0m\u001b[0m\n\u001b[0m\u001b[0;32m     16\u001b[0m \u001b[0mobj2\u001b[0m\u001b[1;33m=\u001b[0m\u001b[0mSample\u001b[0m\u001b[1;33m(\u001b[0m\u001b[1;33m)\u001b[0m\u001b[1;33m\u001b[0m\u001b[1;33m\u001b[0m\u001b[0m\n\u001b[0;32m     17\u001b[0m \u001b[0mobj2\u001b[0m\u001b[1;33m.\u001b[0m\u001b[0mget\u001b[0m\u001b[1;33m(\u001b[0m\u001b[1;33m)\u001b[0m\u001b[1;33m\u001b[0m\u001b[1;33m\u001b[0m\u001b[0m\n",
      "\u001b[1;32m<ipython-input-24-773e914fcf0d>\u001b[0m in \u001b[0;36mdisplay\u001b[1;34m(self)\u001b[0m\n\u001b[0;32m      8\u001b[0m     \u001b[1;32mdef\u001b[0m \u001b[0mdisplay\u001b[0m\u001b[1;33m(\u001b[0m\u001b[0mself\u001b[0m\u001b[1;33m)\u001b[0m\u001b[1;33m:\u001b[0m\u001b[1;33m\u001b[0m\u001b[1;33m\u001b[0m\u001b[0m\n\u001b[0;32m      9\u001b[0m        \u001b[1;31m#Sample.var+=1\u001b[0m\u001b[1;33m\u001b[0m\u001b[1;33m\u001b[0m\u001b[1;33m\u001b[0m\u001b[0m\n\u001b[1;32m---> 10\u001b[1;33m         \u001b[0mprint\u001b[0m\u001b[1;33m(\u001b[0m\u001b[0mvar\u001b[0m\u001b[1;33m)\u001b[0m\u001b[1;33m\u001b[0m\u001b[1;33m\u001b[0m\u001b[0m\n\u001b[0m\u001b[0;32m     11\u001b[0m \u001b[1;33m\u001b[0m\u001b[0m\n\u001b[0;32m     12\u001b[0m \u001b[1;33m\u001b[0m\u001b[0m\n",
      "\u001b[1;31mNameError\u001b[0m: name 'var' is not defined"
     ]
    }
   ],
   "source": [
    "class Sample:\n",
    "    var=10 #class attribute\n",
    "    def get(self):\n",
    "        #print(\"Am get func()\")\n",
    "        var1=int(input(\"Enter Local var I/p:\"))#within get()\n",
    "        print(\"var:\",var1)\n",
    "        \n",
    "    def display(self):\n",
    "       #Sample.var+=1\n",
    "       #print(Sample.var)\n",
    "        print(var1)\n",
    "             \n",
    "        \n",
    "obj1=Sample()\n",
    "obj1.get()\n",
    "obj1.display()\n",
    "obj2=Sample()\n",
    "obj2.get()\n",
    "obj2.display()\n",
    "#print(Sample.var)"
   ]
  },
  {
   "cell_type": "code",
   "execution_count": 1,
   "metadata": {},
   "outputs": [
    {
     "name": "stdout",
     "output_type": "stream",
     "text": [
      "Within func: 25\n",
      "Out func: 26\n",
      "Within func: 25\n",
      "Out func: 26\n"
     ]
    }
   ],
   "source": [
    "var=40#global attribute\n",
    "class Sample:\n",
    "    var=10 #class attribute-only one copy of memory\n",
    "    def get(self):\n",
    "        self.var=25\n",
    "        #self.var=int(input(\"Enter instance:\"))#instance attribute\n",
    "        print(\"Within func:\",self.var)\n",
    "        \n",
    "    def display(self):\n",
    "        self.var+=1\n",
    "        print(\"Out func:\",self.var)\n",
    "        #print(var)\n",
    "        \n",
    "obj1=Sample()\n",
    "obj1.get()\n",
    "obj1.display()\n",
    "obj2=Sample()\n",
    "obj2.get()\n",
    "obj2.display()"
   ]
  },
  {
   "cell_type": "code",
   "execution_count": 3,
   "metadata": {},
   "outputs": [
    {
     "name": "stdout",
     "output_type": "stream",
     "text": [
      "Enter radius:20\n",
      "1256.0\n",
      "125.60000000000001\n",
      "Instance var: 20\n",
      "class var: 3.14\n"
     ]
    }
   ],
   "source": [
    "## area  =========>pi*r**2\n",
    "## circumferenc ==>2*pi*r\n",
    "class Circle:\n",
    "    pi=3.14\n",
    "    def get(self):\n",
    "        self.radius=int(input(\"Enter radius:\"))\n",
    "    def area(self):\n",
    "        print(Circle.pi*self.radius**2)\n",
    "    def Circum(self):\n",
    "        print(2*Circle.pi*self.radius)\n",
    "c=Circle()\n",
    "c.get()\n",
    "c.area()\n",
    "c.Circum()\n",
    "print(\"Instance var:\",c.radius)\n",
    "print(\"class var:\",Circle.pi)"
   ]
  },
  {
   "cell_type": "code",
   "execution_count": null,
   "metadata": {},
   "outputs": [],
   "source": [
    "#private: __var\n",
    "#public"
   ]
  },
  {
   "cell_type": "code",
   "execution_count": 5,
   "metadata": {},
   "outputs": [
    {
     "name": "stdout",
     "output_type": "stream",
     "text": [
      "Enter radius:20\n",
      "1256.0\n",
      "125.60000000000001\n",
      "Instance var: 20\n",
      "class var: 3.14\n"
     ]
    }
   ],
   "source": [
    "## area  =========>pi*r**2\n",
    "## circumferenc ==>2*pi*r\n",
    "class Circle:\n",
    "    pi=3.14\n",
    "    def get(self):\n",
    "        self.radius=int(input(\"Enter radius:\"))\n",
    "    def area(self):\n",
    "        print(Circle.pi*self.radius**2)\n",
    "    def Circum(self):\n",
    "        print(2*Circle.pi*self.radius)\n",
    "c=Circle()\n",
    "c.get()\n",
    "c.area()\n",
    "c.Circum()\n",
    "print(\"Instance var:\",c.radius)\n",
    "print(\"class var:\",Circle.pi)"
   ]
  },
  {
   "cell_type": "code",
   "execution_count": null,
   "metadata": {},
   "outputs": [],
   "source": [
    "##Double underscore method-Dunder method/special method/Magic method\n",
    "__doc__\n",
    "__name__   #module name \n",
    "__init__() #initialization -constructor\n",
    "__str__()  #return string\n",
    "__repr__() #return string\n",
    "__len__()  #int\n",
    "__del__()  #de-allocation"
   ]
  },
  {
   "cell_type": "code",
   "execution_count": 7,
   "metadata": {},
   "outputs": [
    {
     "name": "stdout",
     "output_type": "stream",
     "text": [
      "I'm init()\n"
     ]
    }
   ],
   "source": [
    "class Samp:\n",
    "    def __init__(self):\n",
    "        print(\"I'm init()\")\n",
    "obj=Samp()"
   ]
  },
  {
   "cell_type": "code",
   "execution_count": 8,
   "metadata": {},
   "outputs": [
    {
     "name": "stdout",
     "output_type": "stream",
     "text": [
      "Enter radius:20\n",
      "1256.0\n",
      "125.60000000000001\n"
     ]
    }
   ],
   "source": [
    "## area  =========>pi*r**2\n",
    "## circumferenc ==>2*pi*r\n",
    "class Circle:\n",
    "    pi=3.14\n",
    "    def __init__(self):\n",
    "        self.radius=int(input(\"Enter radius:\"))\n",
    "    def area(self):\n",
    "        print(Circle.pi*self.radius**2)\n",
    "    def Circum(self):\n",
    "        print(2*Circle.pi*self.radius)\n",
    "c=Circle()\n",
    "#c.get()\n",
    "c.area()\n",
    "c.Circum()\n",
    "#print(\"Instance var:\",c.radius)\n",
    "#print(\"class var:\",Circle.pi)"
   ]
  },
  {
   "cell_type": "code",
   "execution_count": 34,
   "metadata": {},
   "outputs": [
    {
     "name": "stdout",
     "output_type": "stream",
     "text": [
      "This is Example of Magic method\n",
      "Str:['Venkat', 'Mounisha', 'Amarthya']\n",
      "Repr:['Venkat', 'Mounisha', 'Amarthya']\n",
      "3\n",
      "<class '__main__.Sample'> deleted\n"
     ]
    }
   ],
   "source": [
    "class Sample:\n",
    "    'This is Example of Magic method'\n",
    "    def __init__(self,mylist):#mylist=>Local\n",
    "        self.lst=mylist\n",
    "    def __str__(self): #informal\n",
    "        return f'Str:{self.lst}'\n",
    "    def __repr__(self): #offical\n",
    "        return f'Repr:{self.lst}'\n",
    "    def __len__(self):\n",
    "        return len(self.lst)\n",
    "    def __del__(self):\n",
    "        print(f'{type(self)} deleted')    \n",
    "        \n",
    "        \n",
    "        \n",
    "if __name__=='__main__':\n",
    "    obj=Sample(['Venkat','Mounisha','Amarthya'])\n",
    "    print(obj.__doc__)\n",
    "    print(obj)\n",
    "    print(repr(obj))\n",
    "    print(len(obj))\n",
    "    del obj\n",
    "    #print(obj)\n",
    "    "
   ]
  },
  {
   "cell_type": "code",
   "execution_count": 13,
   "metadata": {},
   "outputs": [
    {
     "name": "stdout",
     "output_type": "stream",
     "text": [
      "var 10\n"
     ]
    }
   ],
   "source": [
    "no=10\n",
    "print(\"var\",no)"
   ]
  },
  {
   "cell_type": "code",
   "execution_count": null,
   "metadata": {},
   "outputs": [],
   "source": [
    "python2=>.format\n",
    "python3=> f-string"
   ]
  },
  {
   "cell_type": "code",
   "execution_count": 18,
   "metadata": {},
   "outputs": [
    {
     "name": "stdout",
     "output_type": "stream",
     "text": [
      "Hi I am Nagendra! my no is:2345678\n"
     ]
    }
   ],
   "source": [
    "name=\"Nagendra\"\n",
    "mno=2345678\n",
    "print('Hi I am {}! my no is:{}'.format(name,mno)) #Hi Iam Name my no is:no"
   ]
  },
  {
   "cell_type": "code",
   "execution_count": 20,
   "metadata": {},
   "outputs": [
    {
     "name": "stdout",
     "output_type": "stream",
     "text": [
      "Hi my no:2345678! Name is:Nagendra\n"
     ]
    }
   ],
   "source": [
    "print('Hi my no:{1}! Name is:{0}'.format(name,mno))"
   ]
  },
  {
   "cell_type": "code",
   "execution_count": 21,
   "metadata": {},
   "outputs": [
    {
     "name": "stdout",
     "output_type": "stream",
     "text": [
      "Hi I am Nagendra! my no is:2345678\n"
     ]
    }
   ],
   "source": [
    "print(f'Hi I am {name}! my no is:{mno}')"
   ]
  },
  {
   "cell_type": "code",
   "execution_count": null,
   "metadata": {},
   "outputs": [],
   "source": [
    "#First class Function\n",
    "#closure\n",
    "#Decorator"
   ]
  },
  {
   "cell_type": "markdown",
   "metadata": {},
   "source": [
    "###  First class Function"
   ]
  },
  {
   "cell_type": "code",
   "execution_count": 36,
   "metadata": {},
   "outputs": [
    {
     "name": "stdout",
     "output_type": "stream",
     "text": [
      "I am fun\n",
      "I am disp\n"
     ]
    }
   ],
   "source": [
    "#Passing function as argument \n",
    "def fun(myvar):#myvar=disp\n",
    "    print(\"I am fun\")\n",
    "    myvar()#disp()\n",
    "    \n",
    "def disp():\n",
    "    print(\"I am disp\")\n",
    "    \n",
    "fun(disp)\n",
    "    "
   ]
  },
  {
   "cell_type": "code",
   "execution_count": 39,
   "metadata": {},
   "outputs": [
    {
     "name": "stdout",
     "output_type": "stream",
     "text": [
      "I am fun\n",
      "I am disp\n"
     ]
    }
   ],
   "source": [
    "#returning function from a function\n",
    "def fun(myvar):#myvar=disp\n",
    "    print(\"I am fun\")\n",
    "    return myvar#disp()\n",
    "    \n",
    "def disp():\n",
    "    print(\"I am disp\")\n",
    "    \n",
    "newfun=fun(disp)#newfun=myvar=disp\n",
    "newfun()"
   ]
  },
  {
   "cell_type": "code",
   "execution_count": null,
   "metadata": {},
   "outputs": [],
   "source": [
    "Closure is technique by which the value in the enclosing scope\n",
    "is remembered even when the variable goes out of scope."
   ]
  },
  {
   "cell_type": "code",
   "execution_count": 40,
   "metadata": {},
   "outputs": [
    {
     "name": "stdout",
     "output_type": "stream",
     "text": [
      "Hello\n"
     ]
    }
   ],
   "source": [
    "#without closure\n",
    "\n",
    "def outer_fun(msg):#msg=\"Hello\"  #2\n",
    "    def inner_fun():#4\n",
    "        print(msg)  #5\n",
    "    return inner_fun()#3\n",
    "        \n",
    "outer_fun(\"Hello\")#1"
   ]
  },
  {
   "cell_type": "code",
   "execution_count": 42,
   "metadata": {},
   "outputs": [
    {
     "name": "stdout",
     "output_type": "stream",
     "text": [
      "Hello!! Pooja\n",
      "Hi!! Pooja\n"
     ]
    }
   ],
   "source": [
    "#with closure\n",
    "\n",
    "def outer_fun(msg):#2 msg=Hello\n",
    "    def inner_fun():#6\n",
    "        print(f'{msg} Pooja') #7  \n",
    "    return inner_fun#3 \n",
    "        \n",
    "new_fun=outer_fun(\"Hello!!\")#1 #4 new_fun=inner_fun\n",
    "new_fun()#5\n",
    "new_fun1=outer_fun(\"Hi!!\")#1 #4 new_fun=inner_fun\n",
    "new_fun1()#5"
   ]
  },
  {
   "cell_type": "code",
   "execution_count": null,
   "metadata": {},
   "outputs": [],
   "source": []
  }
 ],
 "metadata": {
  "kernelspec": {
   "display_name": "Python 3",
   "language": "python",
   "name": "python3"
  },
  "language_info": {
   "codemirror_mode": {
    "name": "ipython",
    "version": 3
   },
   "file_extension": ".py",
   "mimetype": "text/x-python",
   "name": "python",
   "nbconvert_exporter": "python",
   "pygments_lexer": "ipython3",
   "version": "3.7.3"
  }
 },
 "nbformat": 4,
 "nbformat_minor": 2
}
