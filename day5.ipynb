{
 "cells": [
  {
   "cell_type": "markdown",
   "metadata": {},
   "source": [
    "### Problem Statements- Lists"
   ]
  },
  {
   "cell_type": "code",
   "execution_count": null,
   "metadata": {},
   "outputs": [],
   "source": [
    "Mike given challenge to Smith to Print all the sublists from the given\n",
    "list including empty list.\n",
    "\n",
    "Input Format:\n",
    "Input a list\n",
    "\n",
    "Constraints:\n",
    "1\n",
    "\n",
    "Output Format:\n",
    "Print all the sublists from the given list.\n",
    "\n",
    "Sample Input:\n",
    "0   1\n",
    "10 20\n",
    "Sample Output:\n",
    "     [0:1]   [0:2]         [1:2]\n",
    "[[], ['10'], ['10', '20'], ['20']] #slicing"
   ]
  },
  {
   "cell_type": "code",
   "execution_count": 3,
   "metadata": {},
   "outputs": [
    {
     "name": "stdout",
     "output_type": "stream",
     "text": [
      "10 20\n",
      "[[], ['10'], ['10', '20'], ['20']]\n"
     ]
    }
   ],
   "source": [
    "lst=input().split()#10 20=>len(2)\n",
    "res=[[]]\n",
    "for i in range(len(lst)):#0-1       =>0    1\n",
    "    for j in range(i+1,len(lst)+1):#0-2 =>0,1,2\n",
    "        var=lst[i:j]  #[0:0] [0:1] [0:2]  \n",
    "        res.append(var)#[1:0]  [1:1] [1:2]\n",
    "print(res)"
   ]
  },
  {
   "cell_type": "code",
   "execution_count": null,
   "metadata": {},
   "outputs": [],
   "source": []
  },
  {
   "cell_type": "code",
   "execution_count": null,
   "metadata": {},
   "outputs": [],
   "source": [
    "A list of numbers will be given, the numbers 5 and 8 are present in the\n",
    "(8 always comes after 5) problem.\n",
    "Num1: Add all numbers which do not lie between 5 and 8\n",
    "    (excluding 5 and 8)\n",
    "Num2 : Numbers formed by concatenating all numbers from 5 and 8(including \n",
    "                                                                5 8)\n",
    "\n",
    "Input : 3,2,6,5,1,4,8,9\n",
    "Output : 5168\n",
    "Num1 : 3+2+6+9=20\n",
    "Num2 : ‘5’+’1’+’4’+’8’=5148\n",
    "condition2 : 5148+20=5168"
   ]
  },
  {
   "cell_type": "code",
   "execution_count": 5,
   "metadata": {},
   "outputs": [
    {
     "name": "stdout",
     "output_type": "stream",
     "text": [
      "3,2,6,5,1,4,8,9\n",
      "5168\n"
     ]
    }
   ],
   "source": [
    "lst=list(map(int,input().split(',')))\n",
    "ind5=lst.index(5)\n",
    "ind8=lst.index(8)\n",
    "num2=lst[ind5:ind8+1]\n",
    "num1=[x for x in lst if x not in num2]#[3, 2, 6, 9]\n",
    "var=''.join(str(x) for x in num2)#'5148' #[5,1,4,8]\n",
    "\n",
    "print(sum(num1)+int(var))"
   ]
  },
  {
   "cell_type": "code",
   "execution_count": 8,
   "metadata": {},
   "outputs": [
    {
     "name": "stdout",
     "output_type": "stream",
     "text": [
      "hi#hello\n"
     ]
    }
   ],
   "source": [
    "lst=['hi','hello']\n",
    "print('#'.join(lst))"
   ]
  },
  {
   "cell_type": "code",
   "execution_count": null,
   "metadata": {},
   "outputs": [],
   "source": []
  },
  {
   "cell_type": "markdown",
   "metadata": {},
   "source": [
    "## Strings"
   ]
  },
  {
   "cell_type": "markdown",
   "metadata": {},
   "source": [
    "### Max Digit character"
   ]
  },
  {
   "cell_type": "code",
   "execution_count": null,
   "metadata": {},
   "outputs": [],
   "source": [
    "Take input from user in the given format(consist of name and code),\n",
    "Find max digit from code which is less or equal to the length of string\n",
    "and put that place char in final string if there is no any digit found \n",
    "which not satisfy the condition that simply put ‘X’.\n",
    "\n",
    "Input : Abhishek : 34848, Mayur : 4739, Friends : 2949, Yeah : 9889 \n",
    "Output : kueX\n",
    "    \n",
    " Abhishek:=>len(8) =>  34848=>8=> k\n",
    " Mayur   :=>len(5) =>  4739 =>4=> u\n",
    " Friends :=>len(7) =>  2949 =>4=> e\n",
    "  yeah   :=>len(4) =>  9889 =>no=>X \n",
    " \n"
   ]
  },
  {
   "cell_type": "code",
   "execution_count": null,
   "metadata": {},
   "outputs": [],
   "source": [
    "simle:7553,live:885,long:3421"
   ]
  },
  {
   "cell_type": "code",
   "execution_count": 23,
   "metadata": {},
   "outputs": [
    {
     "name": "stdout",
     "output_type": "stream",
     "text": [
      "Abhishek:34848,Mayur:4739,Friends:2949,Yeah:9889\n",
      "kueX\n"
     ]
    }
   ],
   "source": [
    "lst=input().split(',')\n",
    "res=''\n",
    "for i in lst:\n",
    "    temp=i.split(':')\n",
    "    name=temp[0]#'Abhishek'\n",
    "    num=temp[1] #'34848'\n",
    "    length=len(name) #8\n",
    "    maxv=0\n",
    "    #print(name,num,length)\n",
    "    \n",
    "    for dig in num:\n",
    "        if int(dig)<=length:\n",
    "            if maxv < int(dig):\n",
    "                maxv=int(dig)\n",
    "                \n",
    "    if maxv==0:\n",
    "        res+='X'\n",
    "    else:\n",
    "        res+=name[maxv-1]\n",
    "        \n",
    "print(res)\n"
   ]
  },
  {
   "cell_type": "markdown",
   "metadata": {},
   "source": [
    "### Reverse a string"
   ]
  },
  {
   "cell_type": "code",
   "execution_count": null,
   "metadata": {},
   "outputs": [],
   "source": [
    "Reverse a given string keeping its special character at the same place\n",
    "\n",
    "Input : h@ello\n",
    "Output : o@lleh\n",
    "\n",
    "Input : a#b@c\n",
    "Output : c#b@a"
   ]
  },
  {
   "cell_type": "code",
   "execution_count": 10,
   "metadata": {},
   "outputs": [
    {
     "data": {
      "text/plain": [
       "'nagu@s'"
      ]
     },
     "execution_count": 10,
     "metadata": {},
     "output_type": "execute_result"
    }
   ],
   "source": [
    "str1=\"s@ugan\"\n",
    "str1[::-1]"
   ]
  },
  {
   "cell_type": "code",
   "execution_count": 5,
   "metadata": {},
   "outputs": [
    {
     "name": "stdout",
     "output_type": "stream",
     "text": [
      "h#ell$o\n",
      "o#lle$h\n"
     ]
    }
   ],
   "source": [
    "import re\n",
    "var=input() # a#b@c\n",
    "res=re.findall(\"[a-zA-Z]\",var)\n",
    "res.reverse()#['c','b','a']\n",
    "for i in range(len(var)):#0 1 2 3 4 5\n",
    "    if (ord(var[i])>=32 and ord(var[i])<=47 or\n",
    "       ord(var[i])>=58 and ord(var[i])<=64 or\n",
    "       ord(var[i])>=91 and ord(var[i])<=96 or\n",
    "       ord(var[i])>=123 and ord(var[i])<=126):\n",
    "        res.insert(i,var[i])\n",
    "print(''.join(res))"
   ]
  },
  {
   "cell_type": "code",
   "execution_count": null,
   "metadata": {},
   "outputs": [],
   "source": [
    "isalpha()"
   ]
  },
  {
   "cell_type": "code",
   "execution_count": null,
   "metadata": {},
   "outputs": [],
   "source": [
    "ASCII\n",
    "a-97 b-98...z\n",
    "A-65 B-67\n",
    "\n",
    "Special char:\n",
    "32-47\n",
    "58-64\n",
    "91-96\n",
    "123-126\n"
   ]
  },
  {
   "cell_type": "code",
   "execution_count": 2,
   "metadata": {},
   "outputs": [
    {
     "name": "stdout",
     "output_type": "stream",
     "text": [
      "65\n"
     ]
    }
   ],
   "source": [
    "ch='A'\n",
    "print(ord(ch))"
   ]
  },
  {
   "cell_type": "code",
   "execution_count": null,
   "metadata": {},
   "outputs": [],
   "source": []
  },
  {
   "cell_type": "markdown",
   "metadata": {},
   "source": [
    "### Anagram"
   ]
  },
  {
   "cell_type": "code",
   "execution_count": null,
   "metadata": {},
   "outputs": [],
   "source": [
    "Write a function to check whether two given strings are anagram of each \n",
    "other or not. An anagram of a string is another string that contains \n",
    "same characters, only the order of characters can be different.\n",
    "For example, \n",
    "“abcd” and “dabc” are anagram of each other."
   ]
  },
  {
   "cell_type": "code",
   "execution_count": null,
   "metadata": {},
   "outputs": [],
   "source": [
    "madam\n",
    "dad\n",
    "mom\n",
    "liril\n",
    "malayalam\n",
    "racecar\n",
    "\n",
    "----------\n",
    "abcd -------->dabc---->anagram\n",
    "abcd--------->scdab--->not anagram\n",
    "abcd--------->ascd------>not anagram"
   ]
  },
  {
   "cell_type": "code",
   "execution_count": 7,
   "metadata": {},
   "outputs": [],
   "source": [
    "s1=\"hello\"\n",
    "s2=\"ollleh\" #ehlllo\n"
   ]
  },
  {
   "cell_type": "code",
   "execution_count": 8,
   "metadata": {},
   "outputs": [
    {
     "data": {
      "text/plain": [
       "False"
      ]
     },
     "execution_count": 8,
     "metadata": {},
     "output_type": "execute_result"
    }
   ],
   "source": [
    "s1.isdigit()"
   ]
  },
  {
   "cell_type": "code",
   "execution_count": 9,
   "metadata": {},
   "outputs": [
    {
     "name": "stdout",
     "output_type": "stream",
     "text": [
      "abcd\n",
      "dbca\n",
      "Anagram\n"
     ]
    }
   ],
   "source": [
    "s1=input()\n",
    "s2=input()\n",
    "print(\"Anagram\")if sorted(s1)==sorted(s2) else print(\"Not Anagram\")"
   ]
  },
  {
   "cell_type": "markdown",
   "metadata": {},
   "source": [
    "### Reverse word"
   ]
  },
  {
   "cell_type": "code",
   "execution_count": null,
   "metadata": {},
   "outputs": [],
   "source": [
    "Write a program to reverse words in a given string\n",
    "Example: Let the input string be “i like this program very much”.\n",
    "The function should change the string to “much very program this like i”\n",
    "\n",
    "Input : s = “getting good at coding needs a lot of practice”\n",
    "Output : s = “practice of lot a needs coding at good getting”"
   ]
  },
  {
   "cell_type": "code",
   "execution_count": 10,
   "metadata": {},
   "outputs": [
    {
     "data": {
      "text/plain": [
       "'ecitcarp fo tol a sdeen gnidoc ta doog gnitteg'"
      ]
     },
     "execution_count": 10,
     "metadata": {},
     "output_type": "execute_result"
    }
   ],
   "source": [
    "var=\"getting good at coding needs a lot of practice\"\n",
    "var[::-1]"
   ]
  },
  {
   "cell_type": "code",
   "execution_count": 12,
   "metadata": {},
   "outputs": [
    {
     "name": "stdout",
     "output_type": "stream",
     "text": [
      "getting good at coding needs a lot of practice\n",
      "practice of lot a needs coding at good getting\n"
     ]
    }
   ],
   "source": [
    "s=input().split()\n",
    "print( *s[::-1])"
   ]
  },
  {
   "cell_type": "markdown",
   "metadata": {},
   "source": [
    "### Longest even no "
   ]
  },
  {
   "cell_type": "code",
   "execution_count": null,
   "metadata": {},
   "outputs": [],
   "source": [
    "Take a string as a input. Separate all the integers from it. \n",
    "Then take each integers only once and form the largest even number\n",
    "possible. Print the largest possible even number. And if even number\n",
    "can’t be made, then print -1.\n",
    "\n",
    "Input : Qwert@821142 Output : 8412\n",
    "\n",
    "Input : infytq73119755 Output : -1"
   ]
  },
  {
   "cell_type": "code",
   "execution_count": null,
   "metadata": {},
   "outputs": [],
   "source": [
    "Qwert@821142\n",
    "821142=>8 2 1 4 =>8412"
   ]
  },
  {
   "cell_type": "code",
   "execution_count": null,
   "metadata": {},
   "outputs": [],
   "source": [
    "infytq73119755\n",
    "73119755=> 7 3 1 9 5=>-1"
   ]
  },
  {
   "cell_type": "code",
   "execution_count": 26,
   "metadata": {},
   "outputs": [
    {
     "name": "stdout",
     "output_type": "stream",
     "text": [
      "Qwert@821142\n",
      "8 4 1 2\n"
     ]
    }
   ],
   "source": [
    "import re\n",
    "var=input()#Qwert@821142\n",
    "res=re.findall('[0-9]',var)#821142\n",
    "res=set(res)\n",
    "lst=list(res)#optional #['8','2','1','4']\n",
    "even=[ int(i) for i in lst if int(i)%2==0]#[8,4,2]\n",
    "if len(even)==0:\n",
    "    print(\"-1\")\n",
    "else:\n",
    "    emin=str(min(even))#2\n",
    "    lst.sort(reverse=True)#['8','4','2','1']\n",
    "    lst.remove(emin)#['8','4','1']\n",
    "    lst.append(emin)#['8','4','1','2']\n",
    "    print(''.join(lst))\n",
    "    #print(*lst)\n",
    "    \n",
    "\n"
   ]
  },
  {
   "cell_type": "code",
   "execution_count": null,
   "metadata": {},
   "outputs": [],
   "source": []
  },
  {
   "cell_type": "code",
   "execution_count": null,
   "metadata": {},
   "outputs": [],
   "source": []
  },
  {
   "cell_type": "markdown",
   "metadata": {},
   "source": [
    "## Dictionary comparision"
   ]
  },
  {
   "cell_type": "code",
   "execution_count": null,
   "metadata": {},
   "outputs": [],
   "source": [
    "Input:\n",
    "Enter no of elements:2\n",
    "    \n",
    "Enter first dict key:hi\n",
    "Enter first dict value:123\n",
    "Enter first dict key:xyz\n",
    "Enter first dict value:788\n",
    "Enter second dict key:hi\n",
    "Enter second dict value:890\n",
    "Enter second dict key:qwe\n",
    "Enter second dict value:78\n",
    "output:\n",
    "1\n",
    "Explanation:\n",
    "{'hi': '123', 'xyz': '788'}\n",
    "{'hi': '890', 'qwe': '78'}\n",
    "{'xyz': '788'}"
   ]
  },
  {
   "cell_type": "code",
   "execution_count": 28,
   "metadata": {},
   "outputs": [
    {
     "name": "stdout",
     "output_type": "stream",
     "text": [
      "Enter no element:2\n",
      "Enter first dict key:hi\n",
      "Enter first dict value:123\n",
      "Enter first dict key:hey\n",
      "Enter first dict value:899\n",
      "Enter second dict key:hi\n",
      "Enter second dict value:567\n",
      "Enter second dict key:hello\n",
      "Enter second dict value:5667\n",
      "{'hey': '899'}\n",
      "1\n"
     ]
    }
   ],
   "source": [
    "n=int(input(\"Enter no element:\"))\n",
    "d1={}\n",
    "d2={}\n",
    "for i in range(n):\n",
    "    k=input(\"Enter first dict key:\")\n",
    "    v=input(\"Enter first dict value:\")\n",
    "    d1[k]=v\n",
    "for i in range(n):\n",
    "    k=input(\"Enter second dict key:\")\n",
    "    v=input(\"Enter second dict value:\")\n",
    "    d2[k]=v\n",
    "    \n",
    "res={key:d1[key] for key in d1 if key not in d2}\n",
    "print(res)\n",
    "print(len(res))"
   ]
  },
  {
   "cell_type": "markdown",
   "metadata": {},
   "source": [
    "### Integer extract"
   ]
  },
  {
   "cell_type": "code",
   "execution_count": null,
   "metadata": {},
   "outputs": [],
   "source": [
    "Extract number from given string\n",
    "\n",
    "Input : -jh787g6\n",
    "Output : -7876\n",
    "\n",
    "Input : -08g5gg\n",
    "Output : -085"
   ]
  },
  {
   "cell_type": "code",
   "execution_count": null,
   "metadata": {},
   "outputs": [],
   "source": []
  },
  {
   "cell_type": "code",
   "execution_count": null,
   "metadata": {},
   "outputs": [],
   "source": []
  },
  {
   "cell_type": "markdown",
   "metadata": {},
   "source": [
    "### Form odd or even no from string"
   ]
  },
  {
   "cell_type": "code",
   "execution_count": null,
   "metadata": {},
   "outputs": [],
   "source": [
    "Take a string input containing alphabets, numbers and special\n",
    "symbols (say 3$5&^*7264&). Then, I had to count the number of\n",
    "special symbols. The above example has 5 special symbol which is\n",
    "odd, so I had to print an odd number first followed by an even number. \n",
    "The output should only consist of digits.\n",
    "Hint: The output should be 325674"
   ]
  },
  {
   "cell_type": "code",
   "execution_count": null,
   "metadata": {},
   "outputs": [],
   "source": []
  },
  {
   "cell_type": "code",
   "execution_count": null,
   "metadata": {},
   "outputs": [],
   "source": []
  },
  {
   "cell_type": "markdown",
   "metadata": {},
   "source": [
    "### String roatation"
   ]
  },
  {
   "cell_type": "code",
   "execution_count": null,
   "metadata": {},
   "outputs": [],
   "source": [
    "Input rhdt:246,ghftd:1246\n",
    "\n",
    "Expl :here every string is associated with the number \n",
    "sep by : if sum of squares of digits is even then rotate the string \n",
    "by 1 if square of digits is odd then rotate the string left by 2 \n",
    "position\n",
    "\n",
    "2*2+4*4+6*6=56 which is even so rotate rhdt --->trhd\n",
    "\n",
    "1*1+2*2+4*4+6*6=57 which is odd then rotate string by 2 at left “ghftd” \n",
    "op: ftdgh"
   ]
  },
  {
   "cell_type": "code",
   "execution_count": null,
   "metadata": {},
   "outputs": [],
   "source": []
  },
  {
   "cell_type": "code",
   "execution_count": null,
   "metadata": {},
   "outputs": [],
   "source": []
  },
  {
   "cell_type": "code",
   "execution_count": null,
   "metadata": {},
   "outputs": [],
   "source": []
  }
 ],
 "metadata": {
  "kernelspec": {
   "display_name": "Python 3",
   "language": "python",
   "name": "python3"
  },
  "language_info": {
   "codemirror_mode": {
    "name": "ipython",
    "version": 3
   },
   "file_extension": ".py",
   "mimetype": "text/x-python",
   "name": "python",
   "nbconvert_exporter": "python",
   "pygments_lexer": "ipython3",
   "version": "3.7.3"
  }
 },
 "nbformat": 4,
 "nbformat_minor": 2
}
