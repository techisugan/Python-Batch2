{
 "cells": [
  {
   "cell_type": "markdown",
   "metadata": {},
   "source": [
    "### Problem Statements-control statement"
   ]
  },
  {
   "cell_type": "markdown",
   "metadata": {},
   "source": [
    "Checking Divisiblity Rule-(3 and 5 )"
   ]
  },
  {
   "cell_type": "code",
   "execution_count": null,
   "metadata": {},
   "outputs": [],
   "source": [
    "Input:\n",
    "    no=>\n",
    "    no%3=FUN==>6\n",
    "    no%5=GUN==>10\n",
    "    no%3 && no%5=FUNGUN==>15\n",
    "    no! 3 & 5=invalid==>11"
   ]
  },
  {
   "cell_type": "code",
   "execution_count": 1,
   "metadata": {},
   "outputs": [
    {
     "name": "stdout",
     "output_type": "stream",
     "text": [
      "Enter no5\n",
      "GUN\n"
     ]
    }
   ],
   "source": [
    "no=int(input(\"Enter no\"))\n",
    "if no%3==0 or no%5==0:\n",
    "    if no%3==0 and no%5==0:\n",
    "        print(\"FUNGUN\")\n",
    "    elif no%3==0:\n",
    "        print(\"FUN\")\n",
    "    else:\n",
    "        print(\"GUN\")\n",
    "\n",
    "else:\n",
    "    print(\"Invalid\")"
   ]
  },
  {
   "cell_type": "code",
   "execution_count": null,
   "metadata": {},
   "outputs": [],
   "source": [
    "Nested if-else\n",
    "if condition:\n",
    "    if condition:#simple-if/if-else/if-else ladder\n",
    "        t-stat\n",
    "else:\n",
    "    f-stat"
   ]
  },
  {
   "cell_type": "markdown",
   "metadata": {},
   "source": [
    "Finding the factors of given no."
   ]
  },
  {
   "cell_type": "code",
   "execution_count": null,
   "metadata": {},
   "outputs": [],
   "source": [
    "no=6  =>1 2 3 6        =>6/1 6/2 6/3 6/4 6/5 6/6=>6\n",
    "no=10 =>1 2 5 10       =10 times\n",
    "no=100=>1 2 4 5 10 20 25 50 100=>100 times\n",
    "\n",
    "n-time\n",
    "n/2-time\n",
    "optimized->\n",
    "\n",
    "no->  1 to 10^5"
   ]
  },
  {
   "cell_type": "code",
   "execution_count": 3,
   "metadata": {},
   "outputs": [
    {
     "name": "stdout",
     "output_type": "stream",
     "text": [
      "Enter no100\n",
      "1 2 4 5 10 20 25 50 100\n"
     ]
    }
   ],
   "source": [
    "no=int(input(\"Enter no\"))\n",
    "for i in range(1,(no//2)+1):\n",
    "    if no%i==0:\n",
    "        print(i,end=\" \")\n",
    "print(no)\n"
   ]
  },
  {
   "cell_type": "code",
   "execution_count": 8,
   "metadata": {},
   "outputs": [
    {
     "name": "stdout",
     "output_type": "stream",
     "text": [
      "100\n",
      "1 2 4 5 10 20 25 50\n"
     ]
    }
   ],
   "source": [
    "n = int(input())\n",
    "l = [ i for i in range(1,(n//2)+1) if n%i==0]\n",
    "print(*l)"
   ]
  },
  {
   "cell_type": "code",
   "execution_count": null,
   "metadata": {},
   "outputs": [],
   "source": [
    "100=> 1 2 4 5 10 20 25 50 100\n",
    "\n",
    "n  n/2  sqrt(n)\n",
    "sqrt(100)=>10\n",
    "\n",
    "1     100/1=100   100/100=1\n",
    "2     100/2=50    100/50=2\n",
    "4     100/4=25    100/25=4\n",
    "5     100/5=20    100/20=5\n",
    "10    100/10=10   100/100=10"
   ]
  },
  {
   "cell_type": "code",
   "execution_count": 5,
   "metadata": {},
   "outputs": [
    {
     "name": "stdout",
     "output_type": "stream",
     "text": [
      "Enter no100\n",
      "1 100 2 50 4 25 5 20 10 "
     ]
    }
   ],
   "source": [
    "import math\n",
    "no=int(input(\"Enter no\"))\n",
    "for i in range(1,int(math.sqrt(no))+1):\n",
    "    if no%i==0:\n",
    "        print(i,end=\" \")\n",
    "        if i!=no//i:\n",
    "            print(no//i,end=\" \")"
   ]
  },
  {
   "cell_type": "code",
   "execution_count": null,
   "metadata": {},
   "outputs": [],
   "source": [
    "6-1,2,3,6\n",
    "10-1,2,5,10\n",
    "5-1,5\n",
    "7-1,7\n",
    "-------------\n",
    "1-n     cnt=2 prime\n",
    "2-n      cnt=1  \n",
    "2-n-1    cnt=0\n",
    "----------------\n",
    "2-n//2   cnt=0\n",
    "---------------2-sqrt(n)\n",
    "  cnt=0 #optimized"
   ]
  },
  {
   "cell_type": "markdown",
   "metadata": {},
   "source": [
    "Check whether is given no Prime or not."
   ]
  },
  {
   "cell_type": "code",
   "execution_count": 9,
   "metadata": {},
   "outputs": [
    {
     "name": "stdout",
     "output_type": "stream",
     "text": [
      "Enter no2\n",
      "Prime no\n"
     ]
    }
   ],
   "source": [
    "import math\n",
    "no=int(input(\"Enter no\"))\n",
    "for i in range(2,int(math.sqrt(no))+1):\n",
    "    if no%i==0:\n",
    "        print(\"Not prime\")\n",
    "        break \n",
    "else:\n",
    "    print(\"Prime no\")"
   ]
  },
  {
   "cell_type": "code",
   "execution_count": null,
   "metadata": {},
   "outputs": [],
   "source": []
  },
  {
   "cell_type": "markdown",
   "metadata": {},
   "source": [
    "Prime number generation.(1 to 100)"
   ]
  },
  {
   "cell_type": "code",
   "execution_count": null,
   "metadata": {},
   "outputs": [],
   "source": []
  },
  {
   "cell_type": "markdown",
   "metadata": {},
   "source": [
    "## Lists"
   ]
  },
  {
   "cell_type": "markdown",
   "metadata": {},
   "source": [
    "### Perfect Squares"
   ]
  },
  {
   "cell_type": "code",
   "execution_count": null,
   "metadata": {},
   "outputs": [],
   "source": [
    "Shreyas is appearing for InfyTQ examination and is stuck at a problem to\n",
    "print all numbers in a range which are perfect squares and the sum of the\n",
    "digits of the number is less than10. You as his friend and a good \n",
    "programmer agrees to help him find the answer.\n",
    "\n",
    "Input Format\n",
    "\n",
    "Enter lower range and upper range limit values.\n",
    "\n",
    "Constraints\n",
    "\n",
    "0<=lower<=100\n",
    "\n",
    "0<=upper<=10^5\n",
    "\n",
    "Output Format\n",
    "\n",
    "Print the list created.\n",
    "\n",
    "Sample Input 0\n",
    "\n",
    "Enter lower range: 1\n",
    "\n",
    "Enter upper range:40\n",
    "Sample Output 0\n",
    "\n",
    "[1, 4, 9, 16, 25, 36]"
   ]
  },
  {
   "cell_type": "code",
   "execution_count": null,
   "metadata": {},
   "outputs": [],
   "source": [
    "1 4 9 16 25 36 \n",
    "\n",
    "lb=1\n",
    "ub=100\n",
    "1 4 9 16 25 36 81 100==>49 64 "
   ]
  },
  {
   "cell_type": "code",
   "execution_count": null,
   "metadata": {},
   "outputs": [],
   "source": []
  },
  {
   "cell_type": "code",
   "execution_count": 13,
   "metadata": {},
   "outputs": [
    {
     "name": "stdout",
     "output_type": "stream",
     "text": [
      "Enter LB:1\n",
      "Enter UB:100\n",
      "[1, 4, 9, 16, 25, 36, 81, 100]\n"
     ]
    }
   ],
   "source": [
    "import math\n",
    "lb=int(input(\"Enter LB:\"))\n",
    "ub=int(input(\"Enter UB:\"))\n",
    "lst=[x for x in range(lb,ub+1)if(int(math.sqrt(x)))**2==x and sum(list(map(int,str(x))))<10]\n",
    "print(lst)"
   ]
  },
  {
   "cell_type": "code",
   "execution_count": 11,
   "metadata": {},
   "outputs": [
    {
     "name": "stdout",
     "output_type": "stream",
     "text": [
      "[6, 4]\n"
     ]
    }
   ],
   "source": [
    "n=64\n",
    "res=list(map(int,str(n))) #map(fun,*seq)'64'\n",
    "print(res)"
   ]
  },
  {
   "cell_type": "code",
   "execution_count": 12,
   "metadata": {},
   "outputs": [
    {
     "name": "stdout",
     "output_type": "stream",
     "text": [
      "10\n"
     ]
    }
   ],
   "source": [
    "n=64\n",
    "res=sum(list(map(int,str(n)))) #map(fun,*seq)'64'\n",
    "print(res)"
   ]
  },
  {
   "cell_type": "code",
   "execution_count": null,
   "metadata": {},
   "outputs": [],
   "source": [
    "no=81\n",
    "(int(math.sqrt(no))**2 == no)"
   ]
  },
  {
   "cell_type": "code",
   "execution_count": null,
   "metadata": {},
   "outputs": [],
   "source": []
  },
  {
   "cell_type": "markdown",
   "metadata": {},
   "source": [
    "### Count the elements"
   ]
  },
  {
   "cell_type": "code",
   "execution_count": null,
   "metadata": {},
   "outputs": [],
   "source": [
    "Rahul is good in python programming, and he wanted to check his friend’s\n",
    "programming knowledge. For that he has given some task to his friend to \n",
    "write a program, To Print the count of number of the elements in the list\n",
    "which are within the given range.\n",
    "\n",
    "Input Format:\n",
    "\n",
    "Read a value for total number of elements in the list.\n",
    "\n",
    "Next lines, read the elements of the list.\n",
    "\n",
    "Input the start and end range.\n",
    "\n",
    "Constraints:\n",
    "\n",
    "0\n",
    "\n",
    "Output Format:\n",
    "\n",
    "Print the count of the elements in the list which are within the given\n",
    "start and end range\n",
    "\n",
    "Sample Input:\n",
    "\n",
    "enter list: 10 20 30 15 10 20 10 20\n",
    "10\n",
    "20\n",
    "Sample Output:\n",
    "\n",
    "7\n",
    "Explanation:\n",
    "\n",
    "10,20,10,20,10,20,15 are within the given range 10 and 20"
   ]
  },
  {
   "cell_type": "code",
   "execution_count": 15,
   "metadata": {},
   "outputs": [
    {
     "name": "stdout",
     "output_type": "stream",
     "text": [
      "Enter list:10 20 10 20 15 10 20 30\n",
      "Enter LB:10\n",
      "Enter UB:20\n",
      "7\n",
      "[10, 20, 10, 20, 15, 10, 20]\n"
     ]
    }
   ],
   "source": [
    "lst=list(map(int,input(\"Enter list:\").split(' ')))\n",
    "lb=int(input(\"Enter LB:\"))\n",
    "ub=int(input(\"Enter UB:\"))\n",
    "res=[ x for x in lst if x>=lb and x<=ub]\n",
    "print(len(res))\n",
    "print(res)"
   ]
  },
  {
   "cell_type": "markdown",
   "metadata": {},
   "source": [
    "### Remove Element 1"
   ]
  },
  {
   "cell_type": "code",
   "execution_count": null,
   "metadata": {},
   "outputs": [],
   "source": [
    "Sanjay is a studious person and he always keeps on working to improve his\n",
    "skills now he is given a complete list. And his task is to print the list \n",
    "after removing the element at the given index.\n",
    "\n",
    "Input Format:\n",
    "\n",
    "Input a list\n",
    "\n",
    "Read an index\n",
    "\n",
    "Constraints:\n",
    "\n",
    "0<=index\n",
    "\n",
    "Output Format:\n",
    "\n",
    "Print the list after removing the element at the given index\n",
    "\n",
    "Sample Input:\n",
    "\n",
    "enter list: 5 4 3 2 1\n",
    "2\n",
    "Sample Output 0\n",
    "\n",
    "5 4 2 1\n",
    "Explanation:\n",
    "\n",
    "Element at index 2 is 3. Hence the result list is 5 4 2 1"
   ]
  },
  {
   "cell_type": "code",
   "execution_count": 17,
   "metadata": {},
   "outputs": [
    {
     "name": "stdout",
     "output_type": "stream",
     "text": [
      "Enter list:1 2 3 4 5\n",
      "2\n",
      "1 2 4 5\n"
     ]
    }
   ],
   "source": [
    "lst=list(map(int,input(\"Enter list:\").split(' ')))\n",
    "ind=int(input())\n",
    "res=[x for x in lst if x!=lst[ind]]\n",
    "print(*res)\n"
   ]
  },
  {
   "cell_type": "markdown",
   "metadata": {},
   "source": [
    "### Print Sublists"
   ]
  },
  {
   "cell_type": "code",
   "execution_count": null,
   "metadata": {},
   "outputs": [],
   "source": [
    "Mike given challenge to Smith to Print all the sublists from the given\n",
    "list including empty list.\n",
    "\n",
    "Input Format:\n",
    "Input a list\n",
    "\n",
    "Constraints:\n",
    "1\n",
    "\n",
    "Output Format:\n",
    "Print all the sublists from the given list.\n",
    "\n",
    "Sample Input:\n",
    "\n",
    "10 20\n",
    "Sample Output:\n",
    "\n",
    "[[], ['10'], ['10', '20'], ['20']]\n",
    "     "
   ]
  },
  {
   "cell_type": "code",
   "execution_count": null,
   "metadata": {},
   "outputs": [],
   "source": [
    "lst=input.split()\n"
   ]
  },
  {
   "cell_type": "code",
   "execution_count": 24,
   "metadata": {},
   "outputs": [
    {
     "name": "stdout",
     "output_type": "stream",
     "text": [
      "10 20\n",
      "[['1', '0'], ['2', '0'], [], ['10', '20']]\n"
     ]
    }
   ],
   "source": [
    "lst=list(input().split(\" \"))\n",
    "res=[]\n",
    "for i in lst:\n",
    "    res.append(list(i))\n",
    "res.append([])\n",
    "res.append(lst)\n",
    "print(res)\n"
   ]
  },
  {
   "cell_type": "code",
   "execution_count": null,
   "metadata": {},
   "outputs": [],
   "source": []
  },
  {
   "cell_type": "markdown",
   "metadata": {},
   "source": [
    "### Concatenating Consecutive Elements in Tuple."
   ]
  },
  {
   "cell_type": "code",
   "execution_count": null,
   "metadata": {},
   "outputs": [],
   "source": [
    "Aryan taught Soumya tuple concept in the python programming. \n",
    "Now he wants to check whether she understood the tuple concept clearly \n",
    "or not. For that he has given a task to Soumya To take a tuple, t and \n",
    "print the resultant tuple after concatenating consecutive elements in \n",
    "Tuple.\n",
    "\n",
    "Input Format\n",
    "\n",
    "Read a tuple.\n",
    "\n",
    "Constraints\n",
    "\n",
    "1<=n<=10^3\n",
    "\n",
    "Output Format:\n",
    "Print the tuple after concatenating consecutive elements in tuple.\n",
    "\n",
    "Sample Input:\n",
    "hi,abc,hello,xyz\n",
    "\n",
    "Sample Output:\n",
    "('hiabc', 'abchello', 'helloxyz')\n",
    "\n",
    "Explanation:\n",
    "Print tuple on concatenating the consecutive elements."
   ]
  },
  {
   "cell_type": "code",
   "execution_count": 21,
   "metadata": {},
   "outputs": [
    {
     "name": "stdout",
     "output_type": "stream",
     "text": [
      "hi,abc,hello,xyz\n",
      "('hiabc', 'abchello', 'helloxyz')\n"
     ]
    }
   ],
   "source": [
    "tup=tuple(input().split(','))\n",
    "res=[]\n",
    "for i in range(len(tup)-1):\n",
    "    res.append(tup[i]+tup[i+1])\n",
    "print(tuple(res))"
   ]
  },
  {
   "cell_type": "code",
   "execution_count": 22,
   "metadata": {},
   "outputs": [
    {
     "name": "stdout",
     "output_type": "stream",
     "text": [
      "hi,abc,hello,xyz\n",
      "('hiabc', 'abchello', 'helloxyz')\n"
     ]
    }
   ],
   "source": [
    "tup=tuple(input().split(','))\n",
    "res=[tup[i]+tup[i+1] for i in range(len(tup)-1)]\n",
    "print(tuple(res))"
   ]
  },
  {
   "cell_type": "markdown",
   "metadata": {},
   "source": [
    "### Kth Column Product"
   ]
  },
  {
   "cell_type": "code",
   "execution_count": null,
   "metadata": {},
   "outputs": [],
   "source": [
    "Mani wants to take a part in coding competition, for that she is \n",
    "practicing coding questions.\n",
    "But she got stuck in one question, so she wants your help to write\n",
    "a program, \n",
    "To find out the Kth column product of the given tuple in the list.\n",
    "\n",
    "Input Format\n",
    "\n",
    "Input the size of the list.\n",
    "\n",
    "Read a list with tuples.\n",
    "\n",
    "Input an integer for k.\n",
    "\n",
    "Constraints\n",
    "\n",
    "1<=size<=10^3\n",
    "\n",
    "Output Format\n",
    "\n",
    "Print the product of the Kth column in the given tuple list.\n",
    "\n",
    "Sample Input:\n",
    "\n",
    "3\n",
    "1,2,3,4\n",
    "2,4\n",
    "1,3,5\n",
    "2\n",
    "Sample Output:\n",
    "\n",
    "15\n",
    "Explanation :\n",
    "\n",
    "Product of 2nd index tuple, 1*3*5=15"
   ]
  },
  {
   "cell_type": "code",
   "execution_count": 23,
   "metadata": {},
   "outputs": [
    {
     "name": "stdout",
     "output_type": "stream",
     "text": [
      "3\n",
      "1,2\n",
      "1,2,3,4\n",
      "1,3,5\n",
      "2\n",
      "[('1', '2'), ('1', '2', '3', '4'), ('1', '3', '5')]\n",
      "15\n"
     ]
    }
   ],
   "source": [
    "def prod(val):\n",
    "    res=1\n",
    "    for i in val:\n",
    "        res*=i\n",
    "    return res\n",
    "\n",
    "n=int(input())\n",
    "lst=[]\n",
    "for i in range(n):\n",
    "    t=tuple(input().split(','))\n",
    "    lst.append(t)\n",
    "k=int(input())\n",
    "print(lst)\n",
    "res=prod(int(i) for i in lst[k])\n",
    "print(res)"
   ]
  },
  {
   "cell_type": "code",
   "execution_count": null,
   "metadata": {},
   "outputs": [],
   "source": []
  },
  {
   "cell_type": "code",
   "execution_count": null,
   "metadata": {},
   "outputs": [],
   "source": []
  },
  {
   "cell_type": "markdown",
   "metadata": {},
   "source": [
    "### print unique element"
   ]
  },
  {
   "cell_type": "code",
   "execution_count": null,
   "metadata": {},
   "outputs": [],
   "source": [
    "Karthik is given a task where he is given a list and he is supposed to\n",
    "write a program to print the unique elements in a given list \n",
    "(removing the duplicates from the list).\n",
    "\n",
    "Input Format:\n",
    "\n",
    "Read a list\n",
    "\n",
    "Constraints\n",
    "\n",
    "1\n",
    "\n",
    "Output Format\n",
    "\n",
    "Print the list after removing the duplicate elements.\n",
    "\n",
    "Sample Input 0\n",
    "\n",
    "1 2 1 2 3 4 5\n",
    "Sample Output 0\n",
    "\n",
    "values are:\n",
    "1\n",
    "2\n",
    "3\n",
    "4\n",
    "5\n",
    "Explanation 0\n",
    "\n",
    "1 and 2 are duplicate elements."
   ]
  },
  {
   "cell_type": "code",
   "execution_count": null,
   "metadata": {},
   "outputs": [],
   "source": []
  },
  {
   "cell_type": "code",
   "execution_count": null,
   "metadata": {},
   "outputs": [],
   "source": [
    "A list of numbers will be given, the numbers 5 and 8 are present in the \n",
    "          (8 always comes after 5) problem.\n",
    "Num1 : Add all numbers which do not lie between 5 and 8(excluding 5 and 8)\n",
    "Num2 : Numbers formed by concatenating all numbers from 5 and 8(including 5 8)\n",
    "\n",
    "Input : 3,2,6,5,1,4,8,9\n",
    "Output : 5168\n",
    "Num1 : 3+2+6+9=20\n",
    "Num2 : ‘5’+’1’+’4’+’8’=5148\n",
    "condition2 : 5148+20=5168"
   ]
  },
  {
   "cell_type": "code",
   "execution_count": null,
   "metadata": {},
   "outputs": [],
   "source": []
  },
  {
   "cell_type": "code",
   "execution_count": 2,
   "metadata": {},
   "outputs": [
    {
     "data": {
      "text/plain": [
       "5"
      ]
     },
     "execution_count": 2,
     "metadata": {},
     "output_type": "execute_result"
    }
   ],
   "source": [
    "2+3"
   ]
  },
  {
   "cell_type": "code",
   "execution_count": null,
   "metadata": {},
   "outputs": [],
   "source": []
  }
 ],
 "metadata": {
  "kernelspec": {
   "display_name": "Python 3",
   "language": "python",
   "name": "python3"
  },
  "language_info": {
   "codemirror_mode": {
    "name": "ipython",
    "version": 3
   },
   "file_extension": ".py",
   "mimetype": "text/x-python",
   "name": "python",
   "nbconvert_exporter": "python",
   "pygments_lexer": "ipython3",
   "version": "3.7.3"
  }
 },
 "nbformat": 4,
 "nbformat_minor": 2
}
