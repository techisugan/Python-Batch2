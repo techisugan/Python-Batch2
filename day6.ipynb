{
 "cells": [
  {
   "cell_type": "markdown",
   "metadata": {},
   "source": [
    "### Function"
   ]
  },
  {
   "cell_type": "markdown",
   "metadata": {},
   "source": [
    "### String roatation"
   ]
  },
  {
   "cell_type": "code",
   "execution_count": null,
   "metadata": {},
   "outputs": [],
   "source": [
    "Input rhdt:246,ghftd:1246\n",
    "\n",
    "Expl :here every string is associated with the number \n",
    "sep by : \n",
    "    if sum of squares of digits is even then rotate the string by 1 \n",
    "    if sum of square of digits is odd then rotate the string left by 2 \n",
    "    position\n",
    "\n",
    "2*2+4*4+6*6=56 which is even so rotate rhdt --->trhd\n",
    "\n",
    "1*1+2*2+4*4+6*6=57 which is odd then rotate string by 2 at left “ghftd” \n",
    "op: ftdgh"
   ]
  },
  {
   "cell_type": "code",
   "execution_count": null,
   "metadata": {},
   "outputs": [],
   "source": [
    "lst=input().split(',') #[rhdt:246,ghftd:1246]\n",
    "for i in lst:\n",
    "    temp=i.split(':')\n",
    "    name=temp[0]\n",
    "    num=temp[1]\n",
    "    \n",
    "    \n"
   ]
  },
  {
   "cell_type": "code",
   "execution_count": null,
   "metadata": {},
   "outputs": [],
   "source": []
  },
  {
   "cell_type": "code",
   "execution_count": null,
   "metadata": {},
   "outputs": [],
   "source": [
    "4 4 4 4 4\n",
    "4 4 1 4 4\n",
    "4 4 2 4 4\n",
    "4 4 3 4 4\n",
    "4 4 4 4 4\n",
    "\n",
    "3 3 3 3\n",
    "3 3 1 3\n",
    "3 3 2 3\n",
    "3 3 3 3"
   ]
  },
  {
   "cell_type": "code",
   "execution_count": null,
   "metadata": {},
   "outputs": [],
   "source": [
    "n=4\n",
    "1*2*3*4*17*18*19*20\n",
    "  5*6*7*14*15*16\n",
    "    8*9*12*13\n",
    "      10*11\n",
    "        \n",
    "n=2\n",
    "1*2*5*6\n",
    "  3*4"
   ]
  },
  {
   "cell_type": "code",
   "execution_count": null,
   "metadata": {},
   "outputs": [],
   "source": [
    "permutations=>[x,y,z]=>possible"
   ]
  },
  {
   "cell_type": "code",
   "execution_count": 2,
   "metadata": {},
   "outputs": [
    {
     "name": "stdout",
     "output_type": "stream",
     "text": [
      "('x', 'y', 'z')\n",
      "('x', 'z', 'y')\n",
      "('y', 'x', 'z')\n",
      "('y', 'z', 'x')\n",
      "('z', 'x', 'y')\n",
      "('z', 'y', 'x')\n"
     ]
    }
   ],
   "source": [
    "from itertools import permutations\n",
    "res=permutations(['x','y','z'])\n",
    "for i in res:\n",
    "    print(i)"
   ]
  },
  {
   "cell_type": "code",
   "execution_count": 3,
   "metadata": {},
   "outputs": [
    {
     "name": "stdout",
     "output_type": "stream",
     "text": [
      "('x', 'y')\n",
      "('x', 'z')\n",
      "('y', 'x')\n",
      "('y', 'z')\n",
      "('z', 'x')\n",
      "('z', 'y')\n"
     ]
    }
   ],
   "source": [
    "from itertools import permutations\n",
    "res=permutations(['x','y','z'],2)\n",
    "for i in res:\n",
    "    print(i)"
   ]
  },
  {
   "cell_type": "code",
   "execution_count": 6,
   "metadata": {},
   "outputs": [
    {
     "name": "stdout",
     "output_type": "stream",
     "text": [
      "('x', 'y')\n",
      "('x', 'z')\n",
      "('y', 'z')\n"
     ]
    }
   ],
   "source": [
    "from itertools import combinations\n",
    "combi=combinations(['x','y','z'],2)\n",
    "for i in combi:\n",
    "    print(i)"
   ]
  },
  {
   "cell_type": "code",
   "execution_count": null,
   "metadata": {},
   "outputs": [],
   "source": []
  },
  {
   "cell_type": "markdown",
   "metadata": {},
   "source": [
    "### Form odd or even no from string"
   ]
  },
  {
   "cell_type": "code",
   "execution_count": null,
   "metadata": {},
   "outputs": [],
   "source": [
    "Take a string input containing alphabets, numbers and special\n",
    "symbols (say 3$5&^*7264&). Then, I had to count the number of\n",
    "special symbols. The above example has 5 special symbol which is\n",
    "odd, so I had to print an odd number first followed by an even number. \n",
    "The output should only consist of digits.\n",
    "Hint: The output should be 325674"
   ]
  },
  {
   "cell_type": "code",
   "execution_count": null,
   "metadata": {},
   "outputs": [],
   "source": [
    "input:3$5&^*7264&=>\n",
    "    cnt=5 \n",
    "    3 5 7 2 6 4\n",
    "    odd=>3 5 7\n",
    "    even=>2 6 4\n",
    "    325674"
   ]
  },
  {
   "cell_type": "code",
   "execution_count": 13,
   "metadata": {},
   "outputs": [
    {
     "name": "stdout",
     "output_type": "stream",
     "text": [
      "3$5&^*7264&\n",
      "325674\n"
     ]
    }
   ],
   "source": [
    "import re\n",
    "var=input()#3$5&^*7264&\n",
    "res=''\n",
    "sym=re.findall('[^0-9a-zA-Z]',var)\n",
    "if len(sym)%2==1:\n",
    "    no=re.findall('[0-9]',var)#['3','5','7','2','6','4']\n",
    "    even=[x for x in no if int(x)%2==0]#['2','6','4']\n",
    "    odd=[x for x in no if int(x)%2==1]#['3','5','7']\n",
    "    for x,y in zip(odd,even):#x=3 y=2\n",
    "        res+=x\n",
    "        res+=y\n",
    "print(res)"
   ]
  },
  {
   "cell_type": "code",
   "execution_count": 14,
   "metadata": {},
   "outputs": [
    {
     "name": "stdout",
     "output_type": "stream",
     "text": [
      "3$5&^*7264&@\n",
      "236547\n"
     ]
    }
   ],
   "source": [
    "import re\n",
    "var=input()#3$5&^*7264&@\n",
    "res=''\n",
    "sym=re.findall('[^0-9a-zA-Z]',var)\n",
    "no=re.findall('[0-9]',var)#['3','5','7','2','6','4']\n",
    "even=[x for x in no if int(x)%2==0]#['2','6','4']\n",
    "odd=[x for x in no if int(x)%2==1]#['3','5','7']\n",
    "if len(sym)%2==1:\n",
    "    for x,y in zip(odd,even):#x=3 y=2\n",
    "        res+=x\n",
    "        res+=y\n",
    "else:\n",
    "    for x,y in zip(even,odd):#x=3 y=2\n",
    "        res+=x\n",
    "        res+=y\n",
    "print(res)"
   ]
  },
  {
   "cell_type": "code",
   "execution_count": 15,
   "metadata": {},
   "outputs": [
    {
     "name": "stdout",
     "output_type": "stream",
     "text": [
      "325654\n"
     ]
    }
   ],
   "source": [
    "odd=['3','5','5']\n",
    "even=['2','6','4']\n",
    "res=''\n",
    "for x,y in zip(odd,even):#x=3 y=2\n",
    "    res+=x\n",
    "    res+=y\n",
    "print(res)\n",
    "    "
   ]
  },
  {
   "cell_type": "code",
   "execution_count": null,
   "metadata": {},
   "outputs": [],
   "source": []
  },
  {
   "cell_type": "markdown",
   "metadata": {},
   "source": [
    "## Function -Prime no generation-1 -100"
   ]
  },
  {
   "cell_type": "code",
   "execution_count": 16,
   "metadata": {},
   "outputs": [
    {
     "name": "stdout",
     "output_type": "stream",
     "text": [
      "1\n",
      "100\n",
      "2 3 5 7 11 13 17 19 23 29 31 37 41 43 47 53 59 61 67 71 73 79 83 89 97 "
     ]
    }
   ],
   "source": [
    "import math\n",
    "def isprime(no):\n",
    "    if no==1:\n",
    "        return False\n",
    "    for i in range(2,int(math.sqrt(no))+1):\n",
    "        if no%i==0:\n",
    "            return False            \n",
    "    else:\n",
    "        return True\n",
    "    \n",
    "lb=int(input())\n",
    "ub=int(input())\n",
    "for i in range(lb,ub+1):\n",
    "    if isprime(i):\n",
    "        print(i,end=\" \")        \n"
   ]
  },
  {
   "cell_type": "code",
   "execution_count": null,
   "metadata": {},
   "outputs": [],
   "source": []
  },
  {
   "cell_type": "code",
   "execution_count": null,
   "metadata": {},
   "outputs": [],
   "source": []
  },
  {
   "cell_type": "markdown",
   "metadata": {},
   "source": [
    "### Integer extract"
   ]
  },
  {
   "cell_type": "code",
   "execution_count": null,
   "metadata": {},
   "outputs": [],
   "source": [
    "Extract number from given string\n",
    "\n",
    "Input : -jh787g6\n",
    "Output : -7876\n",
    "\n",
    "Input : 08g5gg\n",
    "Output : 085"
   ]
  },
  {
   "cell_type": "code",
   "execution_count": 20,
   "metadata": {},
   "outputs": [
    {
     "name": "stdout",
     "output_type": "stream",
     "text": [
      "h578hj\n",
      "578\n"
     ]
    }
   ],
   "source": [
    "import re\n",
    "n=input()\n",
    "res=re.findall('[-0-9]',n)\n",
    "print(''.join(res))\n",
    "\n"
   ]
  },
  {
   "cell_type": "code",
   "execution_count": null,
   "metadata": {},
   "outputs": [],
   "source": [
    "6.15"
   ]
  },
  {
   "cell_type": "markdown",
   "metadata": {},
   "source": [
    "### Matrix min element"
   ]
  },
  {
   "cell_type": "code",
   "execution_count": null,
   "metadata": {},
   "outputs": [],
   "source": [
    "Given m*n matrix where m defines number of rows and n defines number\n",
    "of columns. Your job is to check whether a number is consecutive for \n",
    "3 times either in row, column, or diagonal. If there are more than\n",
    "one such numbers then print the minimum one.\n",
    "\n",
    "Note : n = m+1\n",
    "    \n",
    "Input : \n",
    "\n",
    "First Input : m, displaying number of rows\n",
    "\n",
    "Second Input : m*n matrix\n",
    "\n",
    "Output : \n",
    "\n",
    "Integer\n",
    "\n",
    "Sample Testcases :\n",
    "\n",
    "I/P 1:m=6 n=m+1   repeated=>2,1,3,5 0/p:1\n",
    "\n",
    "2 3 4 5 6 2 4 \n",
    "\n",
    "2 3 4 7 6 7 6 \n",
    "\n",
    "2 3 5 5 5 5 2 \n",
    "\n",
    "2 3 1 1 2 1 3 \n",
    "\n",
    "1 1 1 1 9 0 3 \n",
    "\n",
    "2 3 1 1 5 1 2 \n",
    "\n",
    "O/P 1 : 1\n",
    "\n",
    "Note : Make combinations with 4 integers only."
   ]
  },
  {
   "cell_type": "code",
   "execution_count": null,
   "metadata": {},
   "outputs": [],
   "source": []
  },
  {
   "cell_type": "markdown",
   "metadata": {},
   "source": [
    "## Sorting Data"
   ]
  },
  {
   "cell_type": "code",
   "execution_count": null,
   "metadata": {},
   "outputs": [],
   "source": [
    "Consider a non – empty array of strings inarr, where each element is\n",
    "of the format \n",
    "<city name> :<population>:<number of hospitals>\n",
    "separated by comma, return a string outstr  based on the below logic.\n",
    "\n",
    "Obtain  the array arr1 by arranging the city names in an ascending \n",
    "order of its population\n",
    "Obtain the array arr2 by arranging  the city names in an descending \n",
    "order of its hospitals\n",
    "\n",
    "Identify the city name(s) which is/are in the same positions in both \n",
    "arr1 and arr2. From the string outstr by concatenating the identified\n",
    "city name (s), separated by colon(:).if none of the city names are\n",
    "correspondingly in the same positions, return ‘x’ (uppercase) as \n",
    "the output string outstr.\n",
    "\n",
    "Assumption: No two cities in inarr will have the same number of population and number of hospitals \n",
    "Note:  Position starts from 1 \n",
    "    \n",
    "Input Format:\n",
    "Read the comma separated array of strings inarr from the standard\n",
    "input stream.\n",
    "Output Format:\n",
    "Print the output string outstr to the standard output stream."
   ]
  },
  {
   "cell_type": "code",
   "execution_count": null,
   "metadata": {},
   "outputs": [],
   "source": [
    "    <city name> :<population>:<number of hospitals>\n",
    "inarr='London:4000:12,chicago:6000:20,Munich:5000:15,pairs:70000:5'\n",
    "outstr "
   ]
  },
  {
   "cell_type": "code",
   "execution_count": null,
   "metadata": {},
   "outputs": [],
   "source": [
    "arr1=LOndon:Munich:chicago:pairs=>popuplation=>ASC\n",
    "arr2=chicago:Munich:London:pairs=>Hospital   =>DESc\n",
    "            \n",
    "outstr=Munich:pairs\n",
    "    \n",
    "No match: outstr=>'X'"
   ]
  },
  {
   "cell_type": "code",
   "execution_count": null,
   "metadata": {},
   "outputs": [],
   "source": [
    "sorted(iterable,key,reverse)\n",
    "iterable=lst,tuple,set\n",
    "key=>None\n",
    "reverse=>"
   ]
  },
  {
   "cell_type": "code",
   "execution_count": 31,
   "metadata": {},
   "outputs": [
    {
     "name": "stdout",
     "output_type": "stream",
     "text": [
      "London:4000:12,chicago:6000:20,Munich:5000:15,pairs:70000:5\n",
      "[['London', '4000', '12'], ['chicago', '6000', '20'], ['Munich', '5000', '15'], ['pairs', '70000', '5']]\n",
      "Munich:pairs\n"
     ]
    }
   ],
   "source": [
    "inarr=input().split(',')#'London:4000:12,chicago:6000:20,Munich:5000:15,pairs:70000:5'\n",
    "res=[]\n",
    "for i in inarr:\n",
    "    res.append(i.split(':'))\n",
    "print(res)\n",
    "arr1=sorted(res,key=lambda x:int(x[1]))\n",
    "arr2=sorted(res,key=lambda x:int(x[2]),reverse=True)\n",
    "outstr=[]\n",
    "for i,j in zip(arr1,arr2):\n",
    "    if i[0]==j[0]:\n",
    "        outstr.append(i[0])\n",
    "        \n",
    "if len(outsr):\n",
    "    print(':'.join(outstr))\n",
    "else:\n",
    "    print('X')\n"
   ]
  },
  {
   "cell_type": "code",
   "execution_count": null,
   "metadata": {},
   "outputs": [],
   "source": []
  },
  {
   "cell_type": "code",
   "execution_count": 2,
   "metadata": {},
   "outputs": [],
   "source": [
    "#set\n",
    "#Frist string:hello\n",
    "#Second string:python"
   ]
  },
  {
   "cell_type": "code",
   "execution_count": null,
   "metadata": {},
   "outputs": [],
   "source": []
  }
 ],
 "metadata": {
  "kernelspec": {
   "display_name": "Python 3",
   "language": "python",
   "name": "python3"
  },
  "language_info": {
   "codemirror_mode": {
    "name": "ipython",
    "version": 3
   },
   "file_extension": ".py",
   "mimetype": "text/x-python",
   "name": "python",
   "nbconvert_exporter": "python",
   "pygments_lexer": "ipython3",
   "version": "3.7.3"
  }
 },
 "nbformat": 4,
 "nbformat_minor": 2
}
